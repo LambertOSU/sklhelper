{
 "cells": [
  {
   "cell_type": "markdown",
   "metadata": {},
   "source": [
    "# sklhelper testing\n",
    "\n",
    "This Notebook is used for testing the sklhelper class.  The goal of the class is to streamline initial evaluation of various scikit-learn classifiers on new data sets.\n",
    "\n",
    "Sections:\n",
    "- [Titanic Data Prep](#feature)\n",
    "- [Class testing](#kfold)"
   ]
  },
  {
   "cell_type": "code",
   "execution_count": 1,
   "metadata": {},
   "outputs": [
    {
     "name": "stderr",
     "output_type": "stream",
     "text": [
      "/home/adam/anaconda3/lib/python3.6/site-packages/sklearn/cross_validation.py:44: DeprecationWarning: This module was deprecated in version 0.18 in favor of the model_selection module into which all the refactored classes and functions are moved. Also note that the interface of the new CV iterators are different from that of this module. This module will be removed in 0.20.\n",
      "  \"This module will be removed in 0.20.\", DeprecationWarning)\n"
     ]
    }
   ],
   "source": [
    "import pandas as pd\n",
    "import re\n",
    "from sklhelper import sklhelpClassify"
   ]
  },
  {
   "cell_type": "markdown",
   "metadata": {},
   "source": [
    "#### Load data"
   ]
  },
  {
   "cell_type": "code",
   "execution_count": 2,
   "metadata": {
    "collapsed": true
   },
   "outputs": [],
   "source": [
    "data = pd.read_csv('./input/titanic.csv')"
   ]
  },
  {
   "cell_type": "code",
   "execution_count": 3,
   "metadata": {
    "scrolled": false
   },
   "outputs": [
    {
     "data": {
      "text/html": [
       "<div>\n",
       "<style>\n",
       "    .dataframe thead tr:only-child th {\n",
       "        text-align: right;\n",
       "    }\n",
       "\n",
       "    .dataframe thead th {\n",
       "        text-align: left;\n",
       "    }\n",
       "\n",
       "    .dataframe tbody tr th {\n",
       "        vertical-align: top;\n",
       "    }\n",
       "</style>\n",
       "<table border=\"1\" class=\"dataframe\">\n",
       "  <thead>\n",
       "    <tr style=\"text-align: right;\">\n",
       "      <th></th>\n",
       "      <th>pclass</th>\n",
       "      <th>survived</th>\n",
       "      <th>name</th>\n",
       "      <th>sex</th>\n",
       "      <th>age</th>\n",
       "      <th>sibsp</th>\n",
       "      <th>parch</th>\n",
       "      <th>ticket</th>\n",
       "      <th>fare</th>\n",
       "      <th>cabin</th>\n",
       "      <th>embarked</th>\n",
       "      <th>boat</th>\n",
       "      <th>body</th>\n",
       "      <th>home.dest</th>\n",
       "    </tr>\n",
       "  </thead>\n",
       "  <tbody>\n",
       "    <tr>\n",
       "      <th>0</th>\n",
       "      <td>1</td>\n",
       "      <td>1</td>\n",
       "      <td>Allen, Miss. Elisabeth Walton</td>\n",
       "      <td>female</td>\n",
       "      <td>29.0000</td>\n",
       "      <td>0</td>\n",
       "      <td>0</td>\n",
       "      <td>24160</td>\n",
       "      <td>211.3375</td>\n",
       "      <td>B5</td>\n",
       "      <td>S</td>\n",
       "      <td>2</td>\n",
       "      <td>NaN</td>\n",
       "      <td>St Louis, MO</td>\n",
       "    </tr>\n",
       "    <tr>\n",
       "      <th>1</th>\n",
       "      <td>1</td>\n",
       "      <td>1</td>\n",
       "      <td>Allison, Master. Hudson Trevor</td>\n",
       "      <td>male</td>\n",
       "      <td>0.9167</td>\n",
       "      <td>1</td>\n",
       "      <td>2</td>\n",
       "      <td>113781</td>\n",
       "      <td>151.5500</td>\n",
       "      <td>C22 C26</td>\n",
       "      <td>S</td>\n",
       "      <td>11</td>\n",
       "      <td>NaN</td>\n",
       "      <td>Montreal, PQ / Chesterville, ON</td>\n",
       "    </tr>\n",
       "    <tr>\n",
       "      <th>2</th>\n",
       "      <td>1</td>\n",
       "      <td>0</td>\n",
       "      <td>Allison, Miss. Helen Loraine</td>\n",
       "      <td>female</td>\n",
       "      <td>2.0000</td>\n",
       "      <td>1</td>\n",
       "      <td>2</td>\n",
       "      <td>113781</td>\n",
       "      <td>151.5500</td>\n",
       "      <td>C22 C26</td>\n",
       "      <td>S</td>\n",
       "      <td>NaN</td>\n",
       "      <td>NaN</td>\n",
       "      <td>Montreal, PQ / Chesterville, ON</td>\n",
       "    </tr>\n",
       "    <tr>\n",
       "      <th>3</th>\n",
       "      <td>1</td>\n",
       "      <td>0</td>\n",
       "      <td>Allison, Mr. Hudson Joshua Creighton</td>\n",
       "      <td>male</td>\n",
       "      <td>30.0000</td>\n",
       "      <td>1</td>\n",
       "      <td>2</td>\n",
       "      <td>113781</td>\n",
       "      <td>151.5500</td>\n",
       "      <td>C22 C26</td>\n",
       "      <td>S</td>\n",
       "      <td>NaN</td>\n",
       "      <td>135.0</td>\n",
       "      <td>Montreal, PQ / Chesterville, ON</td>\n",
       "    </tr>\n",
       "    <tr>\n",
       "      <th>4</th>\n",
       "      <td>1</td>\n",
       "      <td>0</td>\n",
       "      <td>Allison, Mrs. Hudson J C (Bessie Waldo Daniels)</td>\n",
       "      <td>female</td>\n",
       "      <td>25.0000</td>\n",
       "      <td>1</td>\n",
       "      <td>2</td>\n",
       "      <td>113781</td>\n",
       "      <td>151.5500</td>\n",
       "      <td>C22 C26</td>\n",
       "      <td>S</td>\n",
       "      <td>NaN</td>\n",
       "      <td>NaN</td>\n",
       "      <td>Montreal, PQ / Chesterville, ON</td>\n",
       "    </tr>\n",
       "  </tbody>\n",
       "</table>\n",
       "</div>"
      ],
      "text/plain": [
       "   pclass  survived                                             name     sex  \\\n",
       "0       1         1                    Allen, Miss. Elisabeth Walton  female   \n",
       "1       1         1                   Allison, Master. Hudson Trevor    male   \n",
       "2       1         0                     Allison, Miss. Helen Loraine  female   \n",
       "3       1         0             Allison, Mr. Hudson Joshua Creighton    male   \n",
       "4       1         0  Allison, Mrs. Hudson J C (Bessie Waldo Daniels)  female   \n",
       "\n",
       "       age  sibsp  parch  ticket      fare    cabin embarked boat   body  \\\n",
       "0  29.0000      0      0   24160  211.3375       B5        S    2    NaN   \n",
       "1   0.9167      1      2  113781  151.5500  C22 C26        S   11    NaN   \n",
       "2   2.0000      1      2  113781  151.5500  C22 C26        S  NaN    NaN   \n",
       "3  30.0000      1      2  113781  151.5500  C22 C26        S  NaN  135.0   \n",
       "4  25.0000      1      2  113781  151.5500  C22 C26        S  NaN    NaN   \n",
       "\n",
       "                         home.dest  \n",
       "0                     St Louis, MO  \n",
       "1  Montreal, PQ / Chesterville, ON  \n",
       "2  Montreal, PQ / Chesterville, ON  \n",
       "3  Montreal, PQ / Chesterville, ON  \n",
       "4  Montreal, PQ / Chesterville, ON  "
      ]
     },
     "execution_count": 3,
     "metadata": {},
     "output_type": "execute_result"
    }
   ],
   "source": [
    "data.head()"
   ]
  },
  {
   "cell_type": "code",
   "execution_count": 4,
   "metadata": {
    "collapsed": true
   },
   "outputs": [],
   "source": [
    "data.drop(['boat', 'body', 'home.dest'], axis=1, inplace=True)"
   ]
  },
  {
   "cell_type": "markdown",
   "metadata": {},
   "source": [
    "<a id=\"feature\"></a>\n",
    "## Feature Engineering\n",
    "\n",
    "Here we map representative numerical values onto non-numerical data or calculate relevant metrics.  First, let's count the missing values.\n"
   ]
  },
  {
   "cell_type": "code",
   "execution_count": 5,
   "metadata": {},
   "outputs": [
    {
     "data": {
      "text/plain": [
       "pclass         0\n",
       "survived       0\n",
       "name           0\n",
       "sex            0\n",
       "age          263\n",
       "sibsp          0\n",
       "parch          0\n",
       "ticket         0\n",
       "fare           1\n",
       "cabin       1014\n",
       "embarked       2\n",
       "dtype: int64"
      ]
     },
     "execution_count": 5,
     "metadata": {},
     "output_type": "execute_result"
    }
   ],
   "source": [
    "data.isnull().sum()"
   ]
  },
  {
   "cell_type": "markdown",
   "metadata": {},
   "source": [
    "Not too bad.  The most widely documented solution for the missing *age*'s is to estimate them by title.  We will follow this path.\n",
    "\n",
    "First we'll need to extract the *title* feature from the *name* feature.  We can look at the data and see that the title is always preceded by a white space and followed by a period.  This is a job for a [regular expression](https://docs.python.org/3/howto/regex.html).  In this cass, we'll use the `findall()` method to grab any text which is found between a white space and a period.  \n"
   ]
  },
  {
   "cell_type": "code",
   "execution_count": 6,
   "metadata": {
    "collapsed": true
   },
   "outputs": [],
   "source": [
    "data['title'] = data['name'].apply(lambda x: re.findall('\\w+\\.',x)[0])"
   ]
  },
  {
   "cell_type": "code",
   "execution_count": 7,
   "metadata": {},
   "outputs": [
    {
     "data": {
      "text/plain": [
       "array(['Miss.', 'Master.', 'Mr.', 'Mrs.', 'Col.', 'Mme.', 'Dr.', 'Major.',\n",
       "       'Capt.', 'Lady.', 'Sir.', 'Mlle.', 'Dona.', 'Jonkheer.',\n",
       "       'Countess.', 'Don.', 'Rev.', 'Ms.'], dtype=object)"
      ]
     },
     "execution_count": 7,
     "metadata": {},
     "output_type": "execute_result"
    }
   ],
   "source": [
    "data['title'].unique()"
   ]
  },
  {
   "cell_type": "markdown",
   "metadata": {},
   "source": [
    "We need to fill the NaN's in the *Age* category and it seems like common practice to use the median of the corresponding title group.  We'll do this before binning the title group to preserve resolution.  The data is binned using `pandas.cut`, setting `labels=False` leaves the bin labels as integers which is the input format we need for xgboost.  "
   ]
  },
  {
   "cell_type": "code",
   "execution_count": 8,
   "metadata": {
    "collapsed": true
   },
   "outputs": [],
   "source": [
    "## fill NaN with marker value\n",
    "data['age'].fillna(-1, inplace=True)\n",
    "\n",
    "## get unique titles\n",
    "titles = data.title.unique()\n",
    "\n",
    "## calculate median age for each title\n",
    "medians = dict()\n",
    "for title in titles:\n",
    "    median = data.age[(data[\"age\"] != -1) & (data['title'] == title)].median()\n",
    "    medians[title] = median\n",
    "\n",
    "## replace empty age with median value from\n",
    "## the passenger's title group\n",
    "for index, row in data.iterrows():\n",
    "    if row['age'] == -1:\n",
    "        data.loc[index, 'age'] = medians[row['title']]\n",
    "\n",
    "## categorical map\n",
    "data['age'] = pd.qcut(data['age'], 5, labels=False)"
   ]
  },
  {
   "cell_type": "markdown",
   "metadata": {},
   "source": [
    "Now we'll sort the various titles into a few categories.  I've expanded on the commonly presented groupings for experimentation."
   ]
  },
  {
   "cell_type": "code",
   "execution_count": 9,
   "metadata": {
    "collapsed": true
   },
   "outputs": [],
   "source": [
    "## list of rare titles indicating higher socioeconomic standing\n",
    "rare_titles = ['Master.', 'Don.','Dona.', 'Dr.', \n",
    "                'Lady.', 'Sir.', 'Countess.', 'Jonkheer.']\n",
    "               \n",
    "religious = ['Rev.']\n",
    "\n",
    "military = ['Major.', 'Capt.', 'Col.',]\n",
    "\n",
    "\n",
    "## label rare titles\n",
    "data['title'] = data['title'].replace(rare_titles, 'Rare')\n",
    "\n",
    "## religious\n",
    "data['title'] = data['title'].replace(religious, 'Religious')\n",
    "\n",
    "## military\n",
    "data['title'] = data['title'].replace(military, 'Military')\n",
    "\n",
    "## normalize married female prefixes\n",
    "data['title'] = data['title'].replace('Mme.','Mrs.')\n",
    "\n",
    "## normalize single female prefixes\n",
    "data['title'] = data['title'].replace([ 'Mlle.', 'Ms.'], 'Miss.')\n",
    "\n",
    "## map integers onto title data\n",
    "title_number_mapping = {'Mr.' : 1, 'Mrs.' : 2, 'Miss.' : 3, 'Rare' : 4 , 'Military' : 5, 'Religious' : 6}\n",
    "data['title'] = data['title'].map(title_number_mapping)"
   ]
  },
  {
   "cell_type": "markdown",
   "metadata": {},
   "source": [
    "The *fare* binning looks just like the *age* binning but utilizing the *pclass* feature as a metric."
   ]
  },
  {
   "cell_type": "code",
   "execution_count": 10,
   "metadata": {
    "collapsed": true
   },
   "outputs": [],
   "source": [
    "## fill NaN with marker value\n",
    "data['fare'].fillna(-1, inplace=True)\n",
    "\n",
    "## get list of all classes\n",
    "all_pclasses = data.pclass.unique()\n",
    "\n",
    "## calculate median fare for each class\n",
    "medians = dict()\n",
    "for pclass in all_pclasses:\n",
    "    median = data.fare[(data[\"fare\"] != -1) & (data['pclass'] == pclass)].median()\n",
    "    medians[pclass] = median\n",
    "\n",
    "## assign missing fares the median value\n",
    "## for the passenger's pclass\n",
    "for index, row in data.iterrows():\n",
    "    if row['fare'] == -1:\n",
    "        data.loc[index, 'fare'] = medians[row['pclass']]\n",
    "\n",
    "## bin data\n",
    "data['fare'] = pd.qcut(data['fare'], 5,labels=False)"
   ]
  },
  {
   "cell_type": "markdown",
   "metadata": {},
   "source": [
    "Convert the sex to an integer."
   ]
  },
  {
   "cell_type": "code",
   "execution_count": 11,
   "metadata": {
    "collapsed": true
   },
   "outputs": [],
   "source": [
    "## categorical map\n",
    "sex_mapping = {\"female\": 1 ,\"male\": -1}\n",
    "data['sex'] = data['sex'].map(sex_mapping)"
   ]
  },
  {
   "cell_type": "markdown",
   "metadata": {},
   "source": [
    "Convert the port of embarkation to an integer."
   ]
  },
  {
   "cell_type": "code",
   "execution_count": 12,
   "metadata": {
    "collapsed": true
   },
   "outputs": [],
   "source": [
    "## fill NaN\n",
    "data['embarked'] = data['embarked'].fillna('S')\n",
    "\n",
    "## categorical map\n",
    "embarked_mapping = {'Q' : 1, 'S' : 2, 'C' : 3}\n",
    "data['embarked'] = data['embarked'].map(embarked_mapping)"
   ]
  },
  {
   "cell_type": "markdown",
   "metadata": {},
   "source": [
    "We'll create a new feature which indicates if the passenger's ticket number was paired with another passenger. "
   ]
  },
  {
   "cell_type": "code",
   "execution_count": 13,
   "metadata": {
    "collapsed": true
   },
   "outputs": [],
   "source": [
    "data['ticket_paired'] = data.duplicated(subset='ticket',keep=False);"
   ]
  },
  {
   "cell_type": "markdown",
   "metadata": {},
   "source": [
    "We'll add a feature for the total family size.  There could be some synergistic effect which is missed by accounting for parents and siblings separately."
   ]
  },
  {
   "cell_type": "code",
   "execution_count": 14,
   "metadata": {
    "collapsed": true
   },
   "outputs": [],
   "source": [
    "data['family_size'] = data['sibsp'] + data['parch'] + 1"
   ]
  },
  {
   "cell_type": "markdown",
   "metadata": {},
   "source": [
    "We'll take the same approach with *age* and *pclass* to account for age-class interaction."
   ]
  },
  {
   "cell_type": "code",
   "execution_count": 15,
   "metadata": {
    "collapsed": true
   },
   "outputs": [],
   "source": [
    "data['age_class'] = data.age * data.pclass"
   ]
  },
  {
   "cell_type": "markdown",
   "metadata": {},
   "source": [
    "The *cabin* feature is fairly rich.  We don't have data on everyone, but when we do we can isolate which deck of the ship they were on.  We can also isolate any passengers which booked multiple cabins.  "
   ]
  },
  {
   "cell_type": "code",
   "execution_count": 16,
   "metadata": {
    "collapsed": true
   },
   "outputs": [],
   "source": [
    "## fill NaN with U for unknown\n",
    "data[\"cabin\"].fillna('U', inplace=True)\n",
    "\n",
    "## strip number from cabin\n",
    "data[\"cabin\"] = data[\"cabin\"].apply(lambda x: re.sub('[0-9]','',x))\n",
    "\n",
    "## look for passengers with multiple cabins\n",
    "data['num_cabins'] = data[\"cabin\"].str.count('[A-G]')\n",
    "\n",
    "## replace the outliers\n",
    "data[\"cabin\"] = data[\"cabin\"].replace('T','U')\n",
    "\n",
    "## reduce multi-cabin entries to single character deck letter\n",
    "data[\"cabin\"] = data[\"cabin\"].apply(lambda x: x.split()[0])\n",
    "\n",
    "## map integers onto deck data.\n",
    "cabin_mapping = {'A' : 1, 'B' : 2, 'C' : 3, 'D' : 4, 'E' : 5, 'F' : 6, 'G' : 7, 'U' : 8}\n",
    "data[\"cabin\"] = data[\"cabin\"].map(cabin_mapping)"
   ]
  },
  {
   "cell_type": "markdown",
   "metadata": {
    "collapsed": true
   },
   "source": [
    "Drop columns that won't be passed to the sklearn models."
   ]
  },
  {
   "cell_type": "code",
   "execution_count": 17,
   "metadata": {
    "collapsed": true
   },
   "outputs": [],
   "source": [
    "# data.drop(['name', 'ticket', 'cabin', 'fare', 'embarked', \n",
    "#            'family_size', 'num_cabins', 'ticket_paired'], axis = 1, inplace=True)\n",
    "data.drop(['name', 'ticket'], axis = 1, inplace=True)"
   ]
  },
  {
   "cell_type": "code",
   "execution_count": 18,
   "metadata": {
    "collapsed": true
   },
   "outputs": [],
   "source": [
    "# list(data.columns)"
   ]
  },
  {
   "cell_type": "markdown",
   "metadata": {},
   "source": [
    "Check for bad spots"
   ]
  },
  {
   "cell_type": "code",
   "execution_count": 19,
   "metadata": {
    "collapsed": true
   },
   "outputs": [],
   "source": [
    "# row number of bad data\n",
    "# pd.isnull(data).any(1).nonzero()[0]"
   ]
  },
  {
   "cell_type": "code",
   "execution_count": 20,
   "metadata": {
    "collapsed": true
   },
   "outputs": [],
   "source": [
    "# data.head()"
   ]
  },
  {
   "cell_type": "markdown",
   "metadata": {},
   "source": [
    "<a id=\"kfold\"></a>\n",
    "## sklhelper testing\n",
    "\n",
    "Run a k-Fold validation test for a variety of models.  Default k=5.  Aggregated statistics are reported at the end."
   ]
  },
  {
   "cell_type": "markdown",
   "metadata": {},
   "source": [
    "Define the column name of the predicted quantity."
   ]
  },
  {
   "cell_type": "code",
   "execution_count": 21,
   "metadata": {
    "collapsed": true
   },
   "outputs": [],
   "source": [
    "target = 'survived'"
   ]
  },
  {
   "cell_type": "markdown",
   "metadata": {},
   "source": [
    "Create sklhelper instance."
   ]
  },
  {
   "cell_type": "code",
   "execution_count": 22,
   "metadata": {
    "collapsed": true
   },
   "outputs": [],
   "source": [
    "skl = sklhelpClassify()"
   ]
  },
  {
   "cell_type": "markdown",
   "metadata": {},
   "source": [
    "Import the pandas DataFrame which contains the data."
   ]
  },
  {
   "cell_type": "code",
   "execution_count": 23,
   "metadata": {
    "collapsed": true
   },
   "outputs": [],
   "source": [
    "skl.get_data(data)"
   ]
  },
  {
   "cell_type": "markdown",
   "metadata": {},
   "source": [
    "Set the target for prediction."
   ]
  },
  {
   "cell_type": "code",
   "execution_count": 24,
   "metadata": {
    "collapsed": true
   },
   "outputs": [],
   "source": [
    "skl.set_target(target)"
   ]
  },
  {
   "cell_type": "markdown",
   "metadata": {},
   "source": [
    "Run the k-fold test."
   ]
  },
  {
   "cell_type": "code",
   "execution_count": 25,
   "metadata": {
    "collapsed": true
   },
   "outputs": [],
   "source": [
    "skl.kfold()"
   ]
  },
  {
   "cell_type": "markdown",
   "metadata": {},
   "source": [
    "Generate ranked summary."
   ]
  },
  {
   "cell_type": "code",
   "execution_count": 26,
   "metadata": {},
   "outputs": [
    {
     "name": "stdout",
     "output_type": "stream",
     "text": [
      "                           model    mean  median    std_dev\n",
      "0                  Random Forest  81.514   81.30   4.089637\n",
      "6      Support Vector Classifier  80.598   78.63   4.744531\n",
      "1                    Extra Trees  80.290   80.08   4.340760\n",
      "12     eXtreme Gradient Boosting  79.146   76.34   5.443834\n",
      "11  Gradient Boosting Classifier  78.916   75.95   5.976494\n",
      "10     Adaptive Boost Classifier  78.842   76.34   4.977958\n",
      "3            Logistic Regression  78.150   77.78   4.133304\n",
      "13         Multilayer Perceptron  78.150   78.24   3.428790\n",
      "7                     Linear SVC  77.614   77.39   3.650675\n",
      "8             k-Nearest Neigbors  76.472   77.01   4.784843\n",
      "9                  Decision Tree  75.402   75.57   1.831412\n",
      "2           Gaussian Naive Bayes  74.640   77.78   5.816954\n",
      "4                     Perceptron  70.978   70.99   6.965003\n",
      "5    Stochastic Gradient Descent  62.734   76.34  21.784842\n"
     ]
    }
   ],
   "source": [
    "skl.ranked_summary()"
   ]
  },
  {
   "cell_type": "code",
   "execution_count": 27,
   "metadata": {
    "collapsed": true
   },
   "outputs": [],
   "source": [
    "# skl.report()"
   ]
  }
 ],
 "metadata": {
  "kernelspec": {
   "display_name": "Python 3",
   "language": "python",
   "name": "python3"
  },
  "language_info": {
   "codemirror_mode": {
    "name": "ipython",
    "version": 3
   },
   "file_extension": ".py",
   "mimetype": "text/x-python",
   "name": "python",
   "nbconvert_exporter": "python",
   "pygments_lexer": "ipython3",
   "version": "3.6.1"
  }
 },
 "nbformat": 4,
 "nbformat_minor": 2
}
